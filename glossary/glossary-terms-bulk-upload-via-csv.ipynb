{
    "cells": [
        {
            "attachments": {},
            "cell_type": "markdown",
            "metadata": {},
            "source": [
                "#### Glossary Terms Bulk Upload\n",
                "This notebook demonstrates how to bulk upload a set of Glossary Terms from a csv file.  This example includes code to synthetically create a number of Glossary terms."
            ]
        },
        {
            "attachments": {},
            "cell_type": "markdown",
            "metadata": {},
            "source": [
                "#### Configuration"
            ]
        },
        {
            "cell_type": "code",
            "execution_count": null,
            "metadata": {},
            "outputs": [],
            "source": [
                "import yaml, requests, json\n",
                "\n",
                "# Open the config file to read the client details\n",
                "with open(\"../config/config.yaml\", \"r\") as yamlfile:\n",
                "    config = yaml.load(yamlfile, Loader=yaml.FullLoader)\n",
                "\n",
                "client_id = config[0]['client_id']\n",
                "client_secret = config[0]['client_secret']\n",
                "tenant_id = config[0]['tenant_id']\n",
                "purview_account_name = config[0]['purview_account_name']\n",
                "scope = f\"{config[0]['resource']}/.default\"\n",
                "purview_endpoint = f\"https://{purview_account_name}.purview.azure.com\"\n",
                "authority = f\"https://login.microsoftonline.com/{tenant_id}\"\n",
                "\n",
                "access_token = \"\""
            ]
        },
        {
            "attachments": {},
            "cell_type": "markdown",
            "metadata": {},
            "source": [
                "#### Functions"
            ]
        },
        {
            "cell_type": "code",
            "execution_count": null,
            "metadata": {},
            "outputs": [],
            "source": [
                "# Function to construct header for HTTP requests\n",
                "# Parameters:  None\n",
                "# Returns: Dictionary with header information\n",
                "##\n",
                "def getHeaders():\n",
                "    headers = {\n",
                "        'Authorization': f'Bearer {access_token}',\n",
                "        'Content-Type': 'application/json'\n",
                "    }\n",
                "    return headers;"
            ]
        },
        {
            "attachments": {},
            "cell_type": "markdown",
            "metadata": {},
            "source": [
                "#### OAuth Login\n",
                "Perform Authentication using the Microsoft Authentication Library and get a bearer token for subsequent API calls"
            ]
        },
        {
            "cell_type": "code",
            "execution_count": null,
            "metadata": {},
            "outputs": [],
            "source": [
                "from msal import ConfidentialClientApplication\n",
                "\n",
                "app = ConfidentialClientApplication(client_id, authority=authority, client_credential=client_secret)\n",
                "result = app.acquire_token_for_client(scopes=scope)\n",
                "\n",
                "access_token = result['access_token']"
            ]
        },
        {
            "attachments": {},
            "cell_type": "markdown",
            "metadata": {},
            "source": [
                "#### Initial Setup\n",
                "Create a Glossary for the Terms we are going to work with"
            ]
        },
        {
            "cell_type": "code",
            "execution_count": null,
            "metadata": {},
            "outputs": [],
            "source": [
                "# Initial setup:  Create the Glossary and get a reference to it's guid\n",
                "glossary_name = \"Example Glossary\"\n",
                "\n",
                "glossary_uri = f\"{purview_endpoint}/catalog/api/atlas/v2/glossary\"\n",
                "payload = json.dumps({\n",
                "    \"name\": f\"{glossary_name}\",\n",
                "    \"shortDescription\": \"Glossary to test API Integration\",\n",
                "    \"longDescription\": \"Glossary to test API Integration\",\n",
                "    \"Language\": \"en\",\n",
                "    \"usage\": \"Used to test API calls\"\n",
                "})\n",
                "response = json.loads(requests.request(\"POST\", glossary_uri, headers=getHeaders(), data=payload).content)\n",
                "\n",
                "glossary_guid = response['guid']\n",
                "print(response)"
            ]
        },
        {
            "attachments": {},
            "cell_type": "markdown",
            "metadata": {},
            "source": [
                "#### Create the template file and populuate it with some sample data\n",
                "We'll use the 'System Default' Term Template to create our Glossary Terms.  We can either download the template from the Portal or just manually create it through some basic code.  We can then create some synthetic glossary data to bulk upload."
            ]
        },
        {
            "cell_type": "code",
            "execution_count": null,
            "metadata": {},
            "outputs": [],
            "source": [
                "import csv\n",
                "num_rows_to_create = 250\n",
                "\n",
                "filename = \"glossary_template.csv\"\n",
                "file_headers = [\"Name\", \"Nick Name\", \"Status\", \"Definition\", \"Acronymn\", \"Resources\", \"Related Terms\", \"Synonymns\", \"Stewards\", \"Experts\", \"Parent Term Name\", \"IsDefinitionRichText\", \"Term Template Names\" ]\n",
                "file_rows = []\n",
                "\n",
                "\n",
                "# Create a new file and add the header row\n",
                "with open(filename, 'w', newline='') as csvfile:\n",
                "    csvwriter = csv.writer(csvfile)\n",
                "    csvwriter.writerow(file_headers)\n",
                "\n",
                "    for row in range(num_rows_to_create):\n",
                "        file_rows.append([\n",
                "            f\"Name {row}\",\n",
                "            f\"Nick Name {row}\",\n",
                "            \"Draft\",\n",
                "            f\"Definition {row}\",\n",
                "            f\"Acronymn {row}\",\n",
                "            f\"Microsoft Purview Project:https://web.purview.azure.com;Azure portal:https://portal.azure.com;\",\n",
                "            \"\",\n",
                "            f\"Synonymns {row}\",\n",
                "            \"\",\n",
                "            \"\",\n",
                "            \"\",\n",
                "            \"false\",\n",
                "            \"System default\"\n",
                "        ])\n",
                "    \n",
                "    csvwriter.writerows(file_rows)\n"
            ]
        },
        {
            "attachments": {},
            "cell_type": "markdown",
            "metadata": {},
            "source": [
                "#### Uploading the Glossary Term csv\n",
                "Now that we have created the template, we can upload it using the Import Glossary Terms Via CSV API (https://learn.microsoft.com/en-us/rest/api/purview/catalogdataplane/glossary/import-glossary-terms-via-csv-by-glossary-name?tabs=HTTP)"
            ]
        },
        {
            "cell_type": "code",
            "execution_count": null,
            "metadata": {},
            "outputs": [],
            "source": [
                "# Define the URI for the import operation\n",
                "import_uri = f\"{purview_endpoint}/catalog/api/glossary/name/{requests.utils.quote(glossary_name)}/terms/import?includeTermHierarchy=true&api-version=2022-08-01-preview\"\n",
                "\n",
                "payload = {}\n",
                "\n",
                "# Define a tuple with the file to upload\n",
                "files = [\n",
                "    ('file', (filename, open(filename, 'rb'), 'text/csv'))\n",
                "    ]\n",
                "\n",
                "# Construct the header but remove the Content-Type\n",
                "headers = getHeaders()\n",
                "headers.pop('Content-Type')\n",
                "\n",
                "response = requests.request(\"POST\", import_uri, headers=headers, data=payload, files=files)\n",
                "\n",
                "# Get the operation id so we can check the status in the next cell\n",
                "operation_guid = json.loads(response.content)['id']\n",
                "\n",
                "print(response.text)"
            ]
        },
        {
            "cell_type": "code",
            "execution_count": null,
            "metadata": {},
            "outputs": [],
            "source": [
                "# Uri to check the status of the import operation\n",
                "status_uri = f\"{purview_endpoint}/catalog/api/glossary/terms/import/{operation_guid}?api-version=2022-08-01-preview\"\n",
                "\n",
                "headers = getHeaders()\n",
                "response = json.loads(requests.request(\"GET\", status_uri, headers=headers).content)\n",
                "print(response)"
            ]
        },
        {
            "attachments": {},
            "cell_type": "markdown",
            "metadata": {},
            "source": [
                "#### Cleanup\n",
                "Delete the Glossary that was created.  Note, this won't work if you've assigned any of the Terms to entities."
            ]
        },
        {
            "cell_type": "code",
            "execution_count": null,
            "metadata": {},
            "outputs": [],
            "source": [
                "#Delete the glossary\n",
                "delete_uri = f\"{purview_endpoint}/catalog/api/atlas/v2/glossary/{glossary_guid}\"\n",
                "headers = getHeaders()\n",
                "requests.request(\"DELETE\", delete_uri, headers=headers)"
            ]
        }
    ],
    "metadata": {
        "kernelspec": {
            "display_name": "Python 3",
            "language": "python",
            "name": "python3"
        },
        "language_info": {
            "codemirror_mode": {
                "name": "ipython",
                "version": 3
            },
            "file_extension": ".py",
            "mimetype": "text/x-python",
            "name": "python",
            "nbconvert_exporter": "python",
            "pygments_lexer": "ipython3",
            "version": "3.10.11"
        },
        "vscode": {
            "interpreter": {
                "hash": "ebc452c423bdcd6d3b4f01f70d4ddd2ecd029305467ed3f1a966df199e813d34"
            }
        }
    },
    "nbformat": 4,
    "nbformat_minor": 2
}
