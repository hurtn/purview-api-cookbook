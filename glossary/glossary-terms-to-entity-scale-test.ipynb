{
    "cells": [
        {
            "attachments": {},
            "cell_type": "markdown",
            "metadata": {},
            "source": [
                "#### Glossary Terms to Entity Scale Test\n",
                "This notebook was created in response to a question that came up from a colleague, namely how many Terms can be added to an entity?  This is not a question that is easily answered, as it depends on the size of the Terms, the size of the entity, number of relationships etc.  This notebook does attempt to get a rough baseline based on a simple entity definition."
            ]
        },
        {
            "attachments": {},
            "cell_type": "markdown",
            "metadata": {},
            "source": [
                "#### Configuration"
            ]
        },
        {
            "cell_type": "code",
            "execution_count": 1,
            "metadata": {},
            "outputs": [],
            "source": [
                "import yaml, requests, json\n",
                "\n",
                "# Open the config file to read the client details\n",
                "with open(\"../config/config.yaml\", \"r\") as yamlfile:\n",
                "    config = yaml.load(yamlfile, Loader=yaml.FullLoader)\n",
                "\n",
                "client_id = config[0]['client_id']\n",
                "client_secret = config[0]['client_secret']\n",
                "tenant_id = config[0]['tenant_id']\n",
                "purview_account_name = config[0]['purview_account_name']\n",
                "scope = f\"{config[0]['resource']}/.default\"\n",
                "purview_endpoint = f\"https://{purview_account_name}.purview.azure.com\"\n",
                "authority = f\"https://login.microsoftonline.com/{tenant_id}\"\n",
                "\n",
                "access_token = \"\""
            ]
        },
        {
            "attachments": {},
            "cell_type": "markdown",
            "metadata": {},
            "source": [
                "#### Functions"
            ]
        },
        {
            "cell_type": "code",
            "execution_count": 2,
            "metadata": {},
            "outputs": [],
            "source": [
                "# Function to construct header for HTTP requests\n",
                "# Parameters:  None\n",
                "# Returns: Dictionary with header information\n",
                "##\n",
                "def getHeaders():\n",
                "    headers = {\n",
                "        'Authorization': f'Bearer {access_token}',\n",
                "        'Content-Type': 'application/json'\n",
                "    }\n",
                "    return headers;"
            ]
        },
        {
            "attachments": {},
            "cell_type": "markdown",
            "metadata": {},
            "source": [
                "#### OAuth Login\n",
                "Perform Authentication using the Microsoft Authentication Library and get a bearer token for subsequent API calls"
            ]
        },
        {
            "cell_type": "code",
            "execution_count": 65,
            "metadata": {},
            "outputs": [],
            "source": [
                "from msal import ConfidentialClientApplication\n",
                "\n",
                "app = ConfidentialClientApplication(client_id, authority=authority, client_credential=client_secret)\n",
                "result = app.acquire_token_for_client(scopes=scope)\n",
                "\n",
                "access_token = result['access_token']"
            ]
        },
        {
            "attachments": {},
            "cell_type": "markdown",
            "metadata": {},
            "source": [
                "#### Initial Glossary Setup\n",
                "Let's start by creating some glossary terms to work with.  We'll create a new glossary and create 1000 terms using the Excel upload, each with a random name and description.."
            ]
        },
        {
            "cell_type": "code",
            "execution_count": null,
            "metadata": {},
            "outputs": [],
            "source": [
                "# Initial setup:  Create the Glossary and get a reference to it's guid\n",
                "glossary_name = \"Test Glossary\"\n",
                "\n",
                "glossary_uri = f\"{purview_endpoint}/catalog/api/atlas/v2/glossary\"\n",
                "payload = json.dumps({\n",
                "    \"name\": f\"{glossary_name}\",\n",
                "    \"longDescription\": \"Test Glossary\",\n",
                "    \"Language\": \"en\",\n",
                "    \"usage\": \"Used to test API calls\"\n",
                "})\n",
                "response = json.loads(requests.request(\"POST\", glossary_uri, headers=getHeaders(), data=payload).content)\n",
                "\n",
                "glossary_guid = response['guid']\n",
                "print(response)"
            ]
        },
        {
            "cell_type": "code",
            "execution_count": 6,
            "metadata": {},
            "outputs": [],
            "source": [
                "import csv\n",
                "num_terms_to_create = 1000\n",
                "\n",
                "filename = \"glossary_template.csv\"\n",
                "file_headers = [\"Name\", \"Nick Name\", \"Status\", \"Definition\", \"Acronymn\", \"Resources\", \"Related Terms\", \"Synonymns\", \"Stewards\", \"Experts\", \"Parent Term Name\", \"IsDefinitionRichText\", \"Term Template Names\" ]\n",
                "file_rows = []\n",
                "\n",
                "\n",
                "# Create a new file and add the header row\n",
                "with open(filename, 'w', newline='') as csvfile:\n",
                "    csvwriter = csv.writer(csvfile)\n",
                "    csvwriter.writerow(file_headers)\n",
                "\n",
                "    for row in range(num_terms_to_create):\n",
                "        file_rows.append([\n",
                "            f\"Name {row}\",\n",
                "            f\"Nick Name {row}\",\n",
                "            \"Draft\",\n",
                "            f\"Definition {row}\",\n",
                "            f\"Acronymn {row}\",\n",
                "            f\"Microsoft Purview Project:https://web.purview.azure.com;Azure portal:https://portal.azure.com;\",\n",
                "            \"\",\n",
                "            f\"Synonymns {row}\",\n",
                "            \"\",\n",
                "            \"\",\n",
                "            \"\",\n",
                "            \"false\",\n",
                "            \"System default\"\n",
                "        ])\n",
                "    \n",
                "    csvwriter.writerows(file_rows)\n"
            ]
        },
        {
            "attachments": {},
            "cell_type": "markdown",
            "metadata": {},
            "source": [
                "#### Uploading the Glossary Term csv\n",
                "Now that we have created the template, we can upload it using the Import Glossary Terms Via CSV API (https://learn.microsoft.com/en-us/rest/api/purview/catalogdataplane/glossary/import-glossary-terms-via-csv-by-glossary-name?tabs=HTTP)"
            ]
        },
        {
            "cell_type": "code",
            "execution_count": null,
            "metadata": {},
            "outputs": [],
            "source": [
                "# Define the URI for the import operation\n",
                "import_uri = f\"{purview_endpoint}/catalog/api/glossary/name/{requests.utils.quote(glossary_name)}/terms/import?includeTermHierarchy=true&api-version=2022-08-01-preview\"\n",
                "\n",
                "payload = {}\n",
                "\n",
                "# Define a tuple with the file to upload\n",
                "files = [\n",
                "    ('file', (filename, open(filename, 'rb'), 'text/csv'))\n",
                "    ]\n",
                "\n",
                "# Construct the header but remove the Content-Type\n",
                "headers = getHeaders()\n",
                "headers.pop('Content-Type')\n",
                "\n",
                "response = requests.request(\"POST\", import_uri, headers=headers, data=payload, files=files)\n",
                "\n",
                "# Get the operation id so we can check the status in the next cell\n",
                "operation_guid = json.loads(response.content)['id']\n",
                "\n",
                "print(response.text)"
            ]
        },
        {
            "cell_type": "code",
            "execution_count": null,
            "metadata": {},
            "outputs": [],
            "source": [
                "# Uri to check the status of the import operation\n",
                "status_uri = f\"{purview_endpoint}/catalog/api/glossary/terms/import/{operation_guid}?api-version=2022-08-01-preview\"\n",
                "\n",
                "headers = getHeaders()\n",
                "response = json.loads(requests.request(\"GET\", status_uri, headers=headers).content)\n",
                "print(response)"
            ]
        },
        {
            "attachments": {},
            "cell_type": "markdown",
            "metadata": {},
            "source": [
                "#### Create the entity and the glossary term relationships"
            ]
        },
        {
            "cell_type": "code",
            "execution_count": 66,
            "metadata": {},
            "outputs": [],
            "source": [
                "# Start by getting a list of glossaries\n",
                "glossaries_uri = f\"{purview_endpoint}/catalog/api/atlas/v2/glossary?ignoreTermsAndCategories=true&api-version=2022-08-01-preview\"\n",
                "\n",
                "headers = getHeaders()\n",
                "response = json.loads(requests.request(\"GET\", glossaries_uri, headers=headers).content)\n",
                "\n",
                "# Get the guid for the glossary we created\n",
                "glossary_guid = [(x['guid']) for x in response if x['name'] == glossary_name][0]"
            ]
        },
        {
            "cell_type": "code",
            "execution_count": 67,
            "metadata": {},
            "outputs": [],
            "source": [
                "# Now get the terms guids from the glossary\n",
                "term_headers_uri = f\"{purview_endpoint}/catalog/api/atlas/v2/glossary/{glossary_guid}/terms/headers?api-version=2022-08-01-preview\"\n",
                "\n",
                "headers = getHeaders()\n",
                "response = json.loads(requests.request(\"GET\", term_headers_uri, headers=headers).content)"
            ]
        },
        {
            "cell_type": "code",
            "execution_count": null,
            "metadata": {},
            "outputs": [],
            "source": [
                "term_guids = []\n",
                "for term in response:\n",
                "    #print(term)\n",
                "    term_json = {\"guid\": term['termGuid'], \"typeName\": \"AtlasGlossaryTerm\"}\n",
                "    term_guids.append(term_json)"
            ]
        },
        {
            "cell_type": "code",
            "execution_count": 90,
            "metadata": {},
            "outputs": [],
            "source": [
                "# Now create a basic entity and add the term relationships to it\n",
                "entity_uri = f\"{purview_endpoint}/catalog/api/atlas/v2/entity\"\n",
                "\n",
                "headers = getHeaders()\n",
                "payload = json.dumps({\n",
                "    \"entity\": {\n",
                "        \"typeName\": \"DataSet\",\n",
                "        \"guid\": \"-1\",\n",
                "        \"attributes\": {\n",
                "            \"name\": \"Test Entity\",\n",
                "            \"qualifiedName\": \"Test Entity\",\n",
                "            \"description\": \"Test Entity\"\n",
                "        },\n",
                "        \"relationshipAttributes\": {\n",
                "            \"meanings\": term_guids\n",
                "        }\n",
                "    }\n",
                "})\n",
                "\n",
                "response = json.loads(requests.request(\"POST\", entity_uri, headers=headers, data=payload).content)\n",
                "entity_guid = response['guidAssignments'].get('-1')"
            ]
        },
        {
            "attachments": {},
            "cell_type": "markdown",
            "metadata": {},
            "source": [
                "#### Cleanup\n",
                "Delete the Entity and the Glossary that were created.  "
            ]
        },
        {
            "cell_type": "code",
            "execution_count": null,
            "metadata": {},
            "outputs": [],
            "source": [
                "# Delete the entity\n",
                "delete_guids_uri = f\"{purview_endpoint}/catalog/api/atlas/v2/entity/guid/{entity_guid}\"\n",
                "requests.request(\"DELETE\", delete_guids_uri, headers=getHeaders())"
            ]
        },
        {
            "cell_type": "code",
            "execution_count": null,
            "metadata": {},
            "outputs": [],
            "source": [
                "# Delete the Glossary Terms\n",
                "term_guids_to_delete = [guid['guid'] for guid in term_guids]\n",
                "\n",
                "delete_bulk_terms_uri = f\"{purview_endpoint}/catalog/api/glossary/terms:delete?forceDeleteEntityAssignment=true&api-version=2022-08-01-preview\"\n",
                "payload = json.dumps(term_guids_to_delete)\n",
                "\n",
                "headers =getHeaders()\n",
                "response = json.loads(requests.request(\"POST\", delete_bulk_terms_uri, headers=headers, data=payload).content)\n",
                "\n",
                "operation_guid = json.loads(response.content)['id']"
            ]
        },
        {
            "cell_type": "code",
            "execution_count": null,
            "metadata": {},
            "outputs": [],
            "source": [
                "# Uri to check the status of the delete operation\n",
                "status_uri = f\"{purview_endpoint}/catalog/api/glossary/terms/bulkDeletion/{operation_guid}?api-version=2022-08-01-preview\"\n",
                "\n",
                "headers = getHeaders()\n",
                "response = json.loads(requests.request(\"GET\", status_uri, headers=headers).content)\n",
                "print(response)"
            ]
        },
        {
            "cell_type": "code",
            "execution_count": null,
            "metadata": {},
            "outputs": [],
            "source": [
                "#Delete the glossary\n",
                "delete_uri = f\"{purview_endpoint}/catalog/api/atlas/v2/glossary/{glossary_guid}\"\n",
                "headers = getHeaders()\n",
                "requests.request(\"DELETE\", delete_uri, headers=headers)\n"
            ]
        }
    ],
    "metadata": {
        "kernelspec": {
            "display_name": "Python 3",
            "language": "python",
            "name": "python3"
        },
        "language_info": {
            "codemirror_mode": {
                "name": "ipython",
                "version": 3
            },
            "file_extension": ".py",
            "mimetype": "text/x-python",
            "name": "python",
            "nbconvert_exporter": "python",
            "pygments_lexer": "ipython3",
            "version": "3.10.11"
        },
        "vscode": {
            "interpreter": {
                "hash": "ebc452c423bdcd6d3b4f01f70d4ddd2ecd029305467ed3f1a966df199e813d34"
            }
        }
    },
    "nbformat": 4,
    "nbformat_minor": 2
}
