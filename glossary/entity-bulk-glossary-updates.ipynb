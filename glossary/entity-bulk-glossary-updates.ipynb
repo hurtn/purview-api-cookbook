{
    "cells": [
        {
            "attachments": {},
            "cell_type": "markdown",
            "metadata": {},
            "source": [
                "#### Bulk Glossary Updates\n",
                "This notebook demonstrates an approach to bulk updating entities with glossary terms, but could be applied to other types of updates.  This example includes code to synthetically create a number of entities and remove them for the purposes of scale testing."
            ]
        },
        {
            "attachments": {},
            "cell_type": "markdown",
            "metadata": {},
            "source": [
                "#### Configuration"
            ]
        },
        {
            "cell_type": "code",
            "execution_count": null,
            "metadata": {},
            "outputs": [],
            "source": [
                "import yaml, requests, json\n",
                "\n",
                "# Open the config file to read the client details\n",
                "with open(\"../config/config.yaml\", \"r\") as yamlfile:\n",
                "    config = yaml.load(yamlfile, Loader=yaml.FullLoader)\n",
                "\n",
                "client_id = config[0]['client_id']\n",
                "client_secret = config[0]['client_secret']\n",
                "tenant_id = config[0]['tenant_id']\n",
                "purview_account_name = config[0]['purview_account_name']\n",
                "scope = f\"{config[0]['resource']}/.default\"\n",
                "purview_endpoint = f\"https://{purview_account_name}.purview.azure.com\"\n",
                "authority = f\"https://login.microsoftonline.com/{tenant_id}\"\n",
                "\n",
                "access_token = \"\""
            ]
        },
        {
            "cell_type": "code",
            "execution_count": null,
            "metadata": {},
            "outputs": [],
            "source": [
                "# Collection reference\n",
                "collection_id = \"api-bulk-glossary\"\n",
                "collection_friendly_name = \"API Bulk Glossary\"\n",
                "\n",
                "# Search and glossary parameters\n",
                "fqdn_prefix = \"mssql://test-db.database.windows.net/test-server/test-database/test-schema\"    # FQDn pattern to search for\n",
                "term_guid = \"ea23276b-5d3e-475d-b880-7f8ce3f7eb51\"      # Term guid to apply to results"
            ]
        },
        {
            "attachments": {},
            "cell_type": "markdown",
            "metadata": {},
            "source": [
                "#### Functions"
            ]
        },
        {
            "cell_type": "code",
            "execution_count": null,
            "metadata": {},
            "outputs": [],
            "source": [
                "# Function to construct header for HTTP requests\n",
                "# Parameters:  None\n",
                "# Returns: Dictionary with header information\n",
                "##\n",
                "def getHeaders():\n",
                "    headers = {\n",
                "        'Authorization': f'Bearer {access_token}',\n",
                "        'Content-Type': 'application/json'\n",
                "    }\n",
                "    return headers;"
            ]
        },
        {
            "cell_type": "code",
            "execution_count": null,
            "metadata": {},
            "outputs": [],
            "source": [
                "# Function to search catalog for a given fqdn pattern and a guid.  Returns a searchresult object\n",
                "# Parameters:  \n",
                "#   limit:   Batch size to return (50-1000)\n",
                "#   fqdn:    The FQDN prefix to search for\n",
                "#   guid:    search offset (will filter for results greater than this)\n",
                "# Returns:  Ordered dict object with Search Results sorted by guid (https://learn.microsoft.com/en-us/rest/api/purview/catalogdataplane/discovery/query?tabs=HTTP#searchresult)\n",
                "##\n",
                "def queryForNextBatch(limit, fqdn, guid):\n",
                "\n",
                "    search_uri = f\"{purview_endpoint}/catalog/api/search/query?api-version=2022-03-01-preview\"\n",
                "    payload = json.dumps({\n",
                "        \"keywords\": None,\n",
                "        \"limit\": limit,\n",
                "        \"filter\": {\n",
                "            \"and\": [\n",
                "                {\n",
                "                    \"id\": {\n",
                "                        \"operator\": \"gt\",\n",
                "                        \"value\": guid\n",
                "                    }\n",
                "\n",
                "                },\n",
                "                {\n",
                "                    \"attributeName\": \"qualifiedName\",\n",
                "                    \"operator\": \"startswith\",\n",
                "                    \"attributeValue\": fqdn           \n",
                "                }\n",
                "            ]\n",
                "        },\n",
                "        \"offset\": 0,\n",
                "        \"limit\": limit,\n",
                "        \"orderby\": [{\n",
                "            \"id\": \"asc\"\n",
                "        }]\n",
                "    })\n",
                "\n",
                "    response = json.loads(requests.request(\"POST\", search_uri, data=payload, headers=getHeaders()).content)\n",
                "    return response"
            ]
        },
        {
            "attachments": {},
            "cell_type": "markdown",
            "metadata": {},
            "source": [
                "#### OAuth Login\n",
                "Perform Authentication using the Microsoft Authentication Library and get a bearer token for subsequent API calls"
            ]
        },
        {
            "cell_type": "code",
            "execution_count": null,
            "metadata": {},
            "outputs": [],
            "source": [
                "from msal import ConfidentialClientApplication\n",
                "\n",
                "app = ConfidentialClientApplication(client_id, authority=authority, client_credential=client_secret)\n",
                "result = app.acquire_token_for_client(scopes=scope)\n",
                "\n",
                "access_token = result['access_token']"
            ]
        },
        {
            "attachments": {},
            "cell_type": "markdown",
            "metadata": {},
            "source": [
                "#### Intial Setup\n",
                "(Optional) Create a collection and populate it with some assets"
            ]
        },
        {
            "cell_type": "code",
            "execution_count": null,
            "metadata": {},
            "outputs": [],
            "source": [
                "# Initial setup:  Create the collection and keep a reference to it\n",
                "\n",
                "# Create a collection for the assets\n",
                "uri = f\"{purview_endpoint}/account/collections/{collection_id}?api-version=2019-11-01-preview\"\n",
                "payload = json.dumps({\n",
                "    \"friendlyName\": collection_friendly_name,\n",
                "    \"parentCollection\": {\n",
                "        \"referenceName\": purview_account_name\n",
                "    }\n",
                "})\n",
                "response = json.loads(requests.request(\"PUT\", uri, headers=getHeaders(), data=payload).content)"
            ]
        },
        {
            "cell_type": "code",
            "execution_count": null,
            "metadata": {},
            "outputs": [],
            "source": [
                "num_entities_to_create = 10000         # Define the number of entities to create (creates Azure SQL tables)\n",
                "entities = []                         # Initialise a list to store each entity JSON\n",
                "\n",
                "# Loop and create the required asset definitions\n",
                "i = 1\n",
                "while i <= num_entities_to_create:\n",
                "\n",
                "    id = str(i).zfill(5)\n",
                "    entity = {\n",
                "      \"typeName\": \"azure_sql_table\",\n",
                "      \"guid\": f\"-{i}\",\n",
                "      \"attributes\": {\n",
                "        \"name\": f\"Table {id}\", \n",
                "        \"qualifiedName\": f\"{fqdn_prefix}/Test-Table-{id}\",\n",
                "        \"description\": f\"Bulk created asset Test-Table-{id}\"\n",
                "      }\n",
                "    }\n",
                "    entities.append(entity)\n",
                "    i += 1\n",
                "\n",
                "# Define the (collection) bulk create or update URI and push the JSON payload to it\n",
                "uri = f'{purview_endpoint}/catalog/api/collections/{collection_id}/entity/bulk?api-version=2022-03-01-preview'\n",
                "payload = json.dumps({\n",
                "  \"referredEntities\": {},\n",
                "  \"entities\": entities\n",
                "})\n",
                "response = json.loads(requests.request(\"POST\", uri, headers=getHeaders(), data=payload).content)"
            ]
        },
        {
            "attachments": {},
            "cell_type": "markdown",
            "metadata": {},
            "source": [
                "Create a glossary term"
            ]
        },
        {
            "cell_type": "code",
            "execution_count": null,
            "metadata": {},
            "outputs": [],
            "source": [
                "# Create a glossary terms and keep a reference to it\n",
                "add_term_uri = f\"{purview_endpoint}/account/collections/{collection_id}?api-version=2019-11-01-preview\"\n",
                "\n",
                "\n",
                "# Create a collection for the assets\n",
                "uri = f\"{purview_endpoint}/account/collections/{collection_id}?api-version=2019-11-01-preview\"\n",
                "payload = json.dumps({\n",
                "    \"friendlyName\": collection_friendly_name,\n",
                "    \"parentCollection\": {\n",
                "        \"referenceName\": purview_account_name\n",
                "    }\n",
                "})\n",
                "response = json.loads(requests.request(\"PUT\", uri, headers=getHeaders(), data=payload).content)"
            ]
        },
        {
            "attachments": {},
            "cell_type": "markdown",
            "metadata": {},
            "source": [
                "#### Search, retrieve and bulk update\n",
                "Retrieve each asset in the collection and update with a glossary term"
            ]
        },
        {
            "cell_type": "code",
            "execution_count": null,
            "metadata": {},
            "outputs": [],
            "source": [
                "import math\n",
                "\n",
                "uri = f\"{purview_endpoint}/catalog/api/atlas/v2/glossary/terms/{term_guid}/assignedEntities\"\n",
                "batch_size = 500\n",
                "\n",
                "# Get the first batch (search using the fqdn and using zero guid, effectively starting from the first ordered guid)\n",
                "results = queryForNextBatch(batch_size, fqdn_prefix, \"0\")\n",
                "\n",
                "# Get the total number of results from the search\n",
                "total_num_of_entities = int(results.get(\"@search.count\"))\n",
                "print(f\"Total number of entities to update: {total_num_of_entities}\")\n",
                "\n",
                "# Calculate the number of batches needed\n",
                "number_of_batches = total_num_of_entities / batch_size\n",
                "number_of_batches = math.ceil(number_of_batches)\n",
                "\n",
                "print(f\"number of batches needed with batch size of {batch_size}: {int(number_of_batches)}\")\n",
                "\n",
                "# Loop through each batch \n",
                "for batch in range(int(number_of_batches)):\n",
                "  print(f\"Processing batch {batch+1} of {int(number_of_batches)}\")\n",
                "  \n",
                "  # Reset the list of guids\n",
                "  batch_guids = []\n",
                "\n",
                "  # Get the list of guids from the current query\n",
                "  for guids in results['value']:\n",
                "    this_guid = {\"guid\": f\"{guids['id']}\"}\n",
                "    batch_guids.append(this_guid)\n",
                "\n",
                "  # For this guid batch, call the bulk assign API\n",
                "  payload = json.dumps(batch_guids)\n",
                "  response = requests.request(\"POST\", uri, headers=getHeaders(), data=payload)\n",
                "  \n",
                "  # Any throttling or timeouts will show up in the response so\n",
                "  # we can catch exceptions here if response other than 204.\n",
                "  # We still have the guids for this batch so could implement some retry logic,\n",
                "  # but for now just print the response\n",
                "  #print(response)\n",
                "\n",
                "  # Query for the next batch passing in the last guid processed\n",
                "  results = queryForNextBatch(batch_size, fqdn_prefix, this_guid['guid'])\n",
                "\n",
                "\n"
            ]
        },
        {
            "attachments": {},
            "cell_type": "markdown",
            "metadata": {},
            "source": [
                "#### Cleanup\n",
                "Delete the assets that were created and the collection"
            ]
        },
        {
            "cell_type": "code",
            "execution_count": null,
            "metadata": {},
            "outputs": [],
            "source": [
                "num_entities_for_deletion = 1\n",
                "delete_batch_size = 100\n",
                "\n",
                "while num_entities_for_deletion > 0:\n",
                "  entities_for_deletion = queryForNextBatch(delete_batch_size, fqdn_prefix, \"0\")\n",
                "  num_entities_for_deletion = entities_for_deletion['@search.count']\n",
                "\n",
                "  print(f\"{num_entities_for_deletion} remaining for deletion\")\n",
                "  \n",
                "  delete_uri = f\"{purview_endpoint}/catalog/api/atlas/v2/entity/bulk?\"\n",
                "  for i in entities_for_deletion['value']:\n",
                "    delete_uri = delete_uri + f\"guid={i['id']}&\"\n",
                "\n",
                "  json.loads(requests.request(\"DELETE\", delete_uri[:-1], headers=getHeaders()).content)"
            ]
        },
        {
            "cell_type": "code",
            "execution_count": null,
            "metadata": {},
            "outputs": [],
            "source": [
                "#Delete the collection\n",
                "delete_uri = f\"{purview_endpoint}/collections/{collection_id}?api-version=2019-11-01-preview\"\n",
                "headers = getHeaders()\n",
                "requests.request(\"DELETE\", delete_uri, headers=headers)"
            ]
        }
    ],
    "metadata": {
        "kernelspec": {
            "display_name": "Python 3",
            "language": "python",
            "name": "python3"
        },
        "language_info": {
            "codemirror_mode": {
                "name": "ipython",
                "version": 3
            },
            "file_extension": ".py",
            "mimetype": "text/x-python",
            "name": "python",
            "nbconvert_exporter": "python",
            "pygments_lexer": "ipython3",
            "version": "3.10.11"
        },
        "vscode": {
            "interpreter": {
                "hash": "ebc452c423bdcd6d3b4f01f70d4ddd2ecd029305467ed3f1a966df199e813d34"
            }
        }
    },
    "nbformat": 4,
    "nbformat_minor": 2
}
