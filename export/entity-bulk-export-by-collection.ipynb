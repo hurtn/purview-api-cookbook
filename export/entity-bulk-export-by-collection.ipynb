{
    "cells": [
        {
            "attachments": {},
            "cell_type": "markdown",
            "metadata": {},
            "source": [
                "#### Bulk Export Entities to file\n",
                "This notebook demonstrates an approach to bulk exporting entities by collection.  This notebook queries for all collections in a Purview Account, iterates through each one and exports contents to the local filesystem."
            ]
        },
        {
            "attachments": {},
            "cell_type": "markdown",
            "metadata": {},
            "source": [
                "#### Configuration"
            ]
        },
        {
            "cell_type": "code",
            "execution_count": 1,
            "metadata": {},
            "outputs": [],
            "source": [
                "import yaml, requests, json\n",
                "\n",
                "# Open the config file to read the client details\n",
                "with open(\"../config/config.yaml\", \"r\") as yamlfile:\n",
                "    config = yaml.load(yamlfile, Loader=yaml.FullLoader)\n",
                "\n",
                "client_id = config[0]['client_id']\n",
                "client_secret = config[0]['client_secret']\n",
                "tenant_id = config[0]['tenant_id']\n",
                "purview_account_name = config[0]['purview_account_name']\n",
                "scope = f\"{config[0]['resource']}/.default\"\n",
                "purview_endpoint = f\"https://{purview_account_name}.purview.azure.com\"\n",
                "authority = f\"https://login.microsoftonline.com/{tenant_id}\"\n",
                "\n",
                "access_token = \"\""
            ]
        },
        {
            "attachments": {},
            "cell_type": "markdown",
            "metadata": {},
            "source": [
                "#### Functions"
            ]
        },
        {
            "cell_type": "code",
            "execution_count": 7,
            "metadata": {},
            "outputs": [],
            "source": [
                "# Function to construct header for HTTP requests\n",
                "# Parameters:  None\n",
                "# Returns: Dictionary with header information\n",
                "##\n",
                "def getHeaders():\n",
                "    headers = {\n",
                "        'Authorization': f'Bearer {access_token}',\n",
                "        'Content-Type': 'application/json'\n",
                "    }\n",
                "    return headers;"
            ]
        },
        {
            "cell_type": "code",
            "execution_count": 2,
            "metadata": {},
            "outputs": [],
            "source": [
                "# Function to search catalog for a given collection and a guid offset.  Returns a searchresult object\n",
                "# Parameters:  \n",
                "#   limit:   Batch size to return (50-1000)\n",
                "#   collection_id:    The collection to search\n",
                "#   guid:    search offset (will filter for results greater than this)\n",
                "# Returns:  Ordered dict object with Search Results sorted by guid (https://learn.microsoft.com/en-us/rest/api/purview/catalogdataplane/discovery/query?tabs=HTTP#searchresult)\n",
                "##\n",
                "def queryCollection(limit, collection_id, guid):\n",
                "\n",
                "    search_uri = f\"{purview_endpoint}/catalog/api/search/query?api-version=2022-03-01-preview\"\n",
                "    payload = json.dumps({\n",
                "        \"keywords\": None,\n",
                "        \"limit\": limit,\n",
                "        \"filter\": {\n",
                "            \"and\": [\n",
                "                {\n",
                "                    \"collectionId\": collection_id\n",
                "                },\n",
                "                {\n",
                "                    \"id\": {\n",
                "                        \"operator\": \"gt\",\n",
                "                        \"value\": guid\n",
                "                    }\n",
                "\n",
                "                }\n",
                "            ]\n",
                "        },\n",
                "        \"offset\": 0,\n",
                "        \"limit\": limit,\n",
                "        \"orderby\": [{\n",
                "            \"id\": \"asc\"\n",
                "        }]\n",
                "    })\n",
                "\n",
                "    response = json.loads(requests.request(\"POST\", search_uri, data=payload, headers=getHeaders()).content)\n",
                "    return response"
            ]
        },
        {
            "cell_type": "code",
            "execution_count": 4,
            "metadata": {},
            "outputs": [],
            "source": [
                "# Function to return entity details for a given list of guids.  Returns an Array of AlasEntities\n",
                "# Paremeters\n",
                "#   guids:  List of guids to return\n",
                "# Returns:  AtlasEntity Array object \n",
                "##\n",
                "def getEntities(guids):\n",
                "    entities_uri = f\"{purview_endpoint}/catalog/api/atlas/v2/entity/bulk?\"\n",
                "    \n",
                "    for guid in guids:\n",
                "        entities_uri = entities_uri + f\"guid={guid}&\"\n",
                "\n",
                "    entities_uri = entities_uri + \"minExtInfo=true\"  \n",
                "    headers=getHeaders()\n",
                " \n",
                "    entity_results = json.loads(requests.request(\"GET\", entities_uri, headers=headers).content)\n",
                "    \n",
                "    return entity_results['entities']"
            ]
        },
        {
            "attachments": {},
            "cell_type": "markdown",
            "metadata": {},
            "source": [
                "#### OAuth Login\n",
                "Perform Authentication using the Microsoft Authentication Library and get a bearer token for subsequent API calls"
            ]
        },
        {
            "cell_type": "code",
            "execution_count": 5,
            "metadata": {},
            "outputs": [],
            "source": [
                "from msal import ConfidentialClientApplication\n",
                "\n",
                "app = ConfidentialClientApplication(client_id, authority=authority, client_credential=client_secret)\n",
                "result = app.acquire_token_for_client(scopes=scope)\n",
                "\n",
                "access_token = result['access_token']"
            ]
        },
        {
            "attachments": {},
            "cell_type": "markdown",
            "metadata": {},
            "source": [
                "#### Collection query\n",
                "Get the available collections and add to a list"
            ]
        },
        {
            "cell_type": "code",
            "execution_count": 9,
            "metadata": {},
            "outputs": [
                {
                    "name": "stdout",
                    "output_type": "stream",
                    "text": [
                        "Number of collections found: 7 \n"
                    ]
                }
            ],
            "source": [
                "uri = f\"{purview_endpoint}/account/collections?api-version=2019-11-01-preview\"\n",
                "\n",
                "headers = getHeaders()\n",
                "collections_list = json.loads(requests.request(\"GET\", uri, headers=headers).content)\n",
                "\n",
                "print(f\"Number of collections found: {len(collections_list['value'])} \")"
            ]
        },
        {
            "attachments": {},
            "cell_type": "markdown",
            "metadata": {},
            "source": [
                "#### Extract assets\n",
                "Extract assets from each collection and save to a file.  The batch-size determines how many entities are queried for at a time and written to a file.  "
            ]
        },
        {
            "cell_type": "code",
            "execution_count": 14,
            "metadata": {},
            "outputs": [
                {
                    "name": "stdout",
                    "output_type": "stream",
                    "text": [
                        "pvdemoarfj5-pv (pvdemoarfj5-pv)\n",
                        "Total number of entities in collection pvdemoarfj5-pv: 65\n",
                        "number of batches needed with batch size of 100: 1\n",
                        "Processing batch 1 of 1\n",
                        "Sales (igvbjq)\n",
                        "Total number of entities in collection Sales: 19\n",
                        "number of batches needed with batch size of 100: 1\n",
                        "Processing batch 1 of 1\n",
                        "Marketing (jwvcaz)\n",
                        "Total number of entities in collection Marketing: 11\n",
                        "number of batches needed with batch size of 100: 1\n",
                        "Processing batch 1 of 1\n",
                        "Share (gefl2r)\n",
                        "Total number of entities in collection Share: 0\n",
                        "number of batches needed with batch size of 100: 0\n",
                        "API Collection (api-collection)\n",
                        "Total number of entities in collection API Collection: 4\n",
                        "number of batches needed with batch size of 100: 1\n",
                        "Processing batch 1 of 1\n",
                        "camden (6anio9)\n",
                        "Total number of entities in collection camden: 50\n",
                        "number of batches needed with batch size of 100: 1\n",
                        "Processing batch 1 of 1\n",
                        "API Sub Collection (j6wacz)\n",
                        "Total number of entities in collection API Sub Collection: 0\n",
                        "number of batches needed with batch size of 100: 0\n"
                    ]
                }
            ],
            "source": [
                "import math, os\n",
                "\n",
                "batch_size = 100\n",
                "\n",
                "folder_name = f\"export-{purview_account_name}\"\n",
                "# Create the export directory if it doesn't exist\n",
                "if not os.path.exists(folder_name):\n",
                "    os.makedirs(folder_name)\n",
                "\n",
                "# Iterate through each collection\n",
                "for collection in collections_list['value']:\n",
                "\n",
                "    collection_id = collection['name']\n",
                "    guid_offset = \"0\"\n",
                "\n",
                "    print(f\"{collection['friendlyName']} ({collection['name']})\")\n",
                "\n",
                "    #Execute a search against the collection (use the offset of 0 to get the first batch)\n",
                "    results = queryCollection(batch_size, collection['name'], guid_offset)\n",
                "\n",
                "    # Get the total number of results from the search\n",
                "    total_num_of_entities_in_collection = int(results.get(\"@search.count\"))\n",
                "    print(f\"Total number of entities in collection {collection['friendlyName']}: {total_num_of_entities_in_collection}\")\n",
                "\n",
                "    # Calculate the number of batches needed\n",
                "    number_of_batches = total_num_of_entities_in_collection / batch_size\n",
                "    number_of_batches = math.ceil(number_of_batches)\n",
                "    print(f\"number of batches needed with batch size of {batch_size}: {number_of_batches}\")\n",
                "\n",
                "    # Loop through each batch \n",
                "    for batch in range(int(number_of_batches)):\n",
                "        print(f\"Processing batch {batch+1} of {int(number_of_batches)}\")\n",
                "\n",
                "        batch_guids = []\n",
                "        # For this batch grab all the entities and append to a list\n",
                "        for entity in results['value']:\n",
                "\n",
                "            # For each entity we find store the guid\n",
                "            this_guid = {\"guid\": f\"{entity['id']}\"}\n",
                "            batch_guids.append(entity['id'])\n",
                "\n",
                "        # Once we have a full list of guids call the list by guids\n",
                "        entities = getEntities(batch_guids)\n",
                "\n",
                "        # Dump the entity dict into a json object       \n",
                "        entities_json = json.dumps(entities)\n",
                "\n",
                "        # Export the json to a file\n",
                "        with open(f\"{folder_name}\\{collection['name']}-{batch}.json\", \"w+\") as outfile:\n",
                "            outfile.write(entities_json)\n",
                "\n",
                "        # Set the next offset guid and re-run the query\n",
                "        guid_offset = this_guid\n",
                "\n",
                "        results = queryCollection(batch_size, collection_id, guid_offset)"
            ]
        }
    ],
    "metadata": {
        "kernelspec": {
            "display_name": "Python 3",
            "language": "python",
            "name": "python3"
        },
        "language_info": {
            "codemirror_mode": {
                "name": "ipython",
                "version": 3
            },
            "file_extension": ".py",
            "mimetype": "text/x-python",
            "name": "python",
            "nbconvert_exporter": "python",
            "pygments_lexer": "ipython3",
            "version": "3.10.11"
        },
        "vscode": {
            "interpreter": {
                "hash": "ebc452c423bdcd6d3b4f01f70d4ddd2ecd029305467ed3f1a966df199e813d34"
            }
        }
    },
    "nbformat": 4,
    "nbformat_minor": 2
}
