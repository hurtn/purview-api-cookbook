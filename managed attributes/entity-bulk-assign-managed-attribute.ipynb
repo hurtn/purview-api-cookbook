{
    "cells": [
        {
            "attachments": {},
            "cell_type": "markdown",
            "metadata": {},
            "source": [
                "#### Bulk Assign Managed Attributes\n",
                "This notebook demonstrates an approach to bulk updating entities with managed attributes, but could be applied to other types of updates.  This example includes code to synthetically create a number of entities and remove them for the purposes of scale testing."
            ]
        },
        {
            "attachments": {},
            "cell_type": "markdown",
            "metadata": {},
            "source": [
                "#### Configuration"
            ]
        },
        {
            "cell_type": "code",
            "execution_count": null,
            "metadata": {},
            "outputs": [],
            "source": [
                "import yaml, requests, json\n",
                "\n",
                "# Open the config file to read the client details\n",
                "with open(\"../config/config.yaml\", \"r\") as yamlfile:\n",
                "    config = yaml.load(yamlfile, Loader=yaml.FullLoader)\n",
                "\n",
                "client_id = config[0]['client_id']\n",
                "client_secret = config[0]['client_secret']\n",
                "tenant_id = config[0]['tenant_id']\n",
                "purview_account_name = config[0]['purview_account_name']\n",
                "scope = f\"{config[0]['resource']}/.default\"\n",
                "purview_endpoint = f\"https://{purview_account_name}.purview.azure.com\"\n",
                "authority = f\"https://login.microsoftonline.com/{tenant_id}\"\n",
                "\n",
                "access_token = \"\""
            ]
        },
        {
            "attachments": {},
            "cell_type": "markdown",
            "metadata": {},
            "source": [
                "#### Functions"
            ]
        },
        {
            "cell_type": "code",
            "execution_count": null,
            "metadata": {},
            "outputs": [],
            "source": [
                "# Function to construct header for HTTP requests\n",
                "# Parameters:  None\n",
                "# Returns: Dictionary with header information\n",
                "##\n",
                "def getHeaders():\n",
                "    headers = {\n",
                "        'Authorization': f'Bearer {access_token}',\n",
                "        'Content-Type': 'application/json'\n",
                "    }\n",
                "    return headers;"
            ]
        },
        {
            "cell_type": "code",
            "execution_count": null,
            "metadata": {},
            "outputs": [],
            "source": [
                "# Function to search for all entities in a given Collection.  Returns a searchresult object\n",
                "# Parameters:  \n",
                "#   limit:          Batch size to return (50-1000)\n",
                "#   collection_id:  Collection ID to search\n",
                "# Returns:  Ordered dict object with Search Results sorted by guid (https://learn.microsoft.com/en-us/rest/api/purview/catalogdataplane/discovery/query?tabs=HTTP#searchresult)\n",
                "##\n",
                "def queryCollection(limit, collection_id):\n",
                "\n",
                "    search_uri = f\"{purview_endpoint}/catalog/api/search/query?api-version=2022-03-01-preview\"\n",
                "    payload = json.dumps({\n",
                "        \"keywords\": None,\n",
                "        \"limit\": limit,\n",
                "        \"filter\": {\n",
                "            \"collectionId\": collection_id\n",
                "        }\n",
                "    })\n",
                "\n",
                "    response = json.loads(requests.request(\"POST\", search_uri, data=payload, headers=getHeaders()).content)\n",
                "    return response"
            ]
        },
        {
            "cell_type": "code",
            "execution_count": null,
            "metadata": {},
            "outputs": [],
            "source": [
                "# Function to search catalog for a given fqdn pattern and a guid.  Returns a searchresult object\n",
                "# Parameters:  \n",
                "#   limit:   Batch size to return (50-1000)\n",
                "#   collection_id:    The collection to search\n",
                "#   guid:    search offset (will filter for results greater than this)\n",
                "# Returns:  Ordered dict object with Search Results sorted by guid (https://learn.microsoft.com/en-us/rest/api/purview/catalogdataplane/discovery/query?tabs=HTTP#searchresult)\n",
                "##\n",
                "def queryCollection(limit, collection_id, guid):\n",
                "\n",
                "    search_uri = f\"{purview_endpoint}/catalog/api/search/query?api-version=2022-03-01-preview\"\n",
                "    payload = json.dumps({\n",
                "        \"keywords\": None,\n",
                "        \"limit\": limit,\n",
                "        \"filter\": {\n",
                "            \"and\": [\n",
                "                {\n",
                "                    \"collectionId\": collection_id\n",
                "                },\n",
                "                {\n",
                "                    \"id\": {\n",
                "                        \"operator\": \"gt\",\n",
                "                        \"value\": guid\n",
                "                    }\n",
                "\n",
                "                }\n",
                "            ]\n",
                "        },\n",
                "        \"offset\": 0,\n",
                "        \"limit\": limit,\n",
                "        \"orderby\": [{\n",
                "            \"id\": \"asc\"\n",
                "        }]\n",
                "    })\n",
                "\n",
                "    response = json.loads(requests.request(\"POST\", search_uri, data=payload, headers=getHeaders()).content)\n",
                "    return response"
            ]
        },
        {
            "attachments": {},
            "cell_type": "markdown",
            "metadata": {},
            "source": [
                "#### OAuth Login\n",
                "Perform Authentication using the Microsoft Authentication Library and get a bearer token for subsequent API calls"
            ]
        },
        {
            "cell_type": "code",
            "execution_count": null,
            "metadata": {},
            "outputs": [],
            "source": [
                "from msal import ConfidentialClientApplication\n",
                "\n",
                "app = ConfidentialClientApplication(client_id, authority=authority, client_credential=client_secret)\n",
                "result = app.acquire_token_for_client(scopes=scope)\n",
                "\n",
                "access_token = result['access_token']"
            ]
        },
        {
            "attachments": {},
            "cell_type": "markdown",
            "metadata": {},
            "source": [
                "#### Intial Setup\n",
                "Create a collection and populate it with some assets"
            ]
        },
        {
            "cell_type": "code",
            "execution_count": null,
            "metadata": {},
            "outputs": [],
            "source": [
                "# Initial setup:  Create the collection and keep a reference to it\n",
                "collection_id = \"api-bulk-glossary\"\n",
                "collection_friendly_name = \"API Bulk Glossary\"\n",
                "\n",
                "# Create a collection for the assets\n",
                "collection_uri = f\"{purview_endpoint}/account/collections/{collection_id}?api-version=2019-11-01-preview\"\n",
                "payload = json.dumps({\n",
                "    \"friendlyName\": collection_friendly_name,\n",
                "    \"parentCollection\": {\n",
                "        \"referenceName\": purview_account_name\n",
                "    }\n",
                "})\n",
                "response = json.loads(requests.request(\"PUT\", collection_uri, headers=getHeaders(), data=payload).content)"
            ]
        },
        {
            "attachments": {},
            "cell_type": "markdown",
            "metadata": {},
            "source": [
                "First we need to create a new type definition for the managed attribute.  In this example, we'll create a  managed attribute to define the Data Residency details such as the cloud region teh data is stored in and if the data is restricted to just that region."
            ]
        },
        {
            "cell_type": "code",
            "execution_count": null,
            "metadata": {},
            "outputs": [],
            "source": [
                "# Create an enumerator for the region choices we wat to use in the managed attribute\n",
                "typedef_uri = f\"{purview_endpoint}/catalog/api/atlas/v2/types/typedefs?api-version=2022-08-01-preview\"\n",
                "payload = json.dumps({\n",
                "    \"enumDefs\": [\n",
                "        {\n",
                "            \"name\": \"ATTRIBUTE_ENUM_REGION_CHOICES\",\n",
                "            \"description\": \"Cloud Regions\",\n",
                "            \"elementDefs\": [\n",
                "                {  \"value\": \"eastus\", \"ordinal\": 0 },\n",
                "                {  \"value\": \"westus\", \"ordinal\": 1 },\n",
                "                {  \"value\": \"northeurope\", \"ordinal\": 2 },\n",
                "                {  \"value\": \"westeurope\", \"ordinal\": 3 },\n",
                "                {  \"value\": \"uksouth\", \"ordinal\": 4 },\n",
                "                {  \"value\": \"ukwest\", \"ordinal\": 5 }\n",
                "            ]\n",
                "        }\n",
                "    ]\n",
                "})\n",
                "\n",
                "response = json.loads(requests.request(\"POST\", typedef_uri, headers=getHeaders(), data=payload).content)\n",
                "print(response)"
            ]
        },
        {
            "cell_type": "code",
            "execution_count": null,
            "metadata": {},
            "outputs": [],
            "source": [
                "# Create the managed attribute type definition\n",
                "typedef_uri = f\"{purview_endpoint}/catalog/api/atlas/v2/types/typedefs?api-version=2022-08-01-preview\"\n",
                "payload = json.dumps({\n",
                "    \"businessMetadataDefs\": [\n",
                "        {\n",
                "            \"name\": \"Data Residency\",\n",
                "            \"description\": \"Information about the data residency of the asset\",\n",
                "            \"attributeDefs\": [\n",
                "                {\n",
                "                    \"name\": \"Cloud Region\",\n",
                "                    \"typeName\": \"ATTRIBUTE_ENUM_REGION_CHOICES\",\n",
                "                    \"isOptional\": True,\n",
                "                    \"options\": { \n",
                "                        \"applicableEntityTypes\": \"[\\\"DataSet\\\"]\",\n",
                "                        \"isDisabled\": False\n",
                "                    }\n",
                "                },\n",
                "                {\n",
                "                    \"name\": \"Cross Border Restricted\",\n",
                "                    \"typeName\": \"boolean\",\n",
                "                    \"isOptional\": True,\n",
                "                    \"options\": { \n",
                "                        \"applicableEntityTypes\": \"[\\\"DataSet\\\"]\",\n",
                "                        \"isDisabled\": False\n",
                "                    }\n",
                "                }\n",
                "            ]\n",
                "        }\n",
                "    ]\n",
                "})\n",
                "\n",
                "response = json.loads(requests.request(\"POST\", typedef_uri, headers=getHeaders(), data=payload).content)\n",
                "print(response)"
            ]
        },
        {
            "attachments": {
                "image.png": {
                    "image/png": "[encoded data removed]"
                }
            },
            "cell_type": "markdown",
            "metadata": {},
            "source": [
                "Once the above Managed Attribute Type has been created, you should see this in the Data Map and it can be added to all Enties of type 'Dataset' as well as any sub-types:\n",
                "\n",
                "![image.png](attachment:image.png)\n",
                " \n",
                "Now let's create some sample entities to use for the bulk assignment operation."
            ]
        },
        {
            "cell_type": "code",
            "execution_count": null,
            "metadata": {},
            "outputs": [],
            "source": [
                "\n",
                "fqdn_prefix = \"mssql://test-db.database.windows.net/test-server/test-database/test-schema/\"\n",
                "num_entities_to_create = 1000        # Define the number of entities to create (creates Azure SQL tables)\n",
                "entities = []                         # Initialise a list to store each entity JSON\n",
                "\n",
                "# Loop and create the required asset definitions\n",
                "i = 1\n",
                "while i <= num_entities_to_create:\n",
                "\n",
                "    id = str(i).zfill(5)\n",
                "    entity = {\n",
                "      \"typeName\": \"azure_sql_table\",\n",
                "      \"guid\": f\"-{i}\",\n",
                "      \"attributes\": {\n",
                "        \"name\": f\"Table {id}\", \n",
                "        \"qualifiedName\": f\"{fqdn_prefix}/Test-Table-{id}\",\n",
                "        \"description\": f\"Bulk created asset Test-Table-{id}\"\n",
                "      }\n",
                "    }\n",
                "    entities.append(entity)\n",
                "    i += 1\n",
                "\n",
                "# Define the (collection) bulk create or update URI and push the JSON payload to it\n",
                "uri = f'{purview_endpoint}/catalog/api/collections/{collection_id}/entity/bulk?api-version=2022-03-01-preview'\n",
                "payload = json.dumps({\n",
                "  \"referredEntities\": {},\n",
                "  \"entities\": entities\n",
                "})\n",
                "response = json.loads(requests.request(\"POST\", uri, headers=getHeaders(), data=payload).content)"
            ]
        },
        {
            "attachments": {},
            "cell_type": "markdown",
            "metadata": {},
            "source": [
                "#### Generate the Business Metadata\n",
                "We could have created the business metadata alongside the objects we created above, but if we want to bulk update some assets post-creation, the most efficient mechanism is via a file upload.  There are 2 API calls to help here, the first provides the template, the second can then be used to upload a populated template.  Let's start with the template download."
            ]
        },
        {
            "cell_type": "code",
            "execution_count": null,
            "metadata": {},
            "outputs": [],
            "source": [
                "# Call the URI and get the reponse (a comma-separated list of field names)\n",
                "template_uri = f\"{purview_endpoint}/catalog/api/atlas/v2/entity/businessmetadata/import/template\"\n",
                "response = requests.request(\"GET\", template_uri, headers=getHeaders()).content\n",
                "\n",
                "# Parse the response to get the filed names as a list\n",
                "field_names = response.decode(\"utf-8\").split(\"\\r\\n\")[0].split(\",\")\n"
            ]
        },
        {
            "attachments": {},
            "cell_type": "markdown",
            "metadata": {},
            "source": [
                "Now that we have the file template we need to populate it.  To do this we can execute a search to get the entities we are interested in and write the relevant details to a local file."
            ]
        },
        {
            "cell_type": "code",
            "execution_count": null,
            "metadata": {},
            "outputs": [],
            "source": [
                "import csv, math\n",
                "\n",
                "batch_size = 500\n",
                "\n",
                "filename = \"bulk-managed-attributes.csv\"\n",
                "file_headers = field_names\n",
                "file_rows = []\n",
                "\n",
                "# Create a new file and add the header row (see previous cell)\n",
                "with open(filename, 'w', newline='') as csvfile:\n",
                "    csvwriter = csv.writer(csvfile)\n",
                "    csvwriter.writerow(file_headers)\n",
                "\n",
                "\n",
                "    # Get the first batch (search using the collection and using zero guid, effectively starting from the first ordered guid)\n",
                "    results = queryCollection(batch_size, collection_id, \"0\")\n",
                "    num_results = len(results.get(\"value\"))\n",
                "\n",
                "    # Get the total number of results from the search\n",
                "    total_num_of_entities = int(results.get(\"@search.count\"))\n",
                "    print(f\"Total number of entities in collection: {total_num_of_entities}\")\n",
                "\n",
                "    # Calculate the number of batches needed\n",
                "    number_of_batches = total_num_of_entities / batch_size\n",
                "    number_of_batches = math.ceil(number_of_batches)\n",
                "\n",
                "    # Loop through each batch \n",
                "    for batch in range(int(number_of_batches)):\n",
                "        print(f\"Processing batch {batch+1} of {int(number_of_batches)}\")\n",
                "\n",
                "        # Get the list of guids from the current query\n",
                "        for entities in results['value']:\n",
                "            this_guid = {\"guid\": f\"{entities['id']}\"}\n",
                "\n",
                "            file_rows.append([entities['entityType'], entities['qualifiedName'],\"Data Residency.Cloud Region\", \"uksouth\", \"qualifiedName\"])\n",
                "            file_rows.append([entities['entityType'], entities['qualifiedName'],\"Data Residency.Cross Border Restricted\", \"TRUE\", \"qualifiedName\"])\n",
                "\n",
                "        # Write out this batch of rows to the file and clear the list    \n",
                "        csvwriter.writerows(file_rows)\n",
                "        file_rows = []\n",
                "\n",
                "        # Query for the next batch passing in the last guid processed\n",
                "        results = queryCollection(batch_size, collection_id, this_guid['guid'])"
            ]
        },
        {
            "attachments": {},
            "cell_type": "markdown",
            "metadata": {},
            "source": [
                "Now that we have our generated file we can use this in the Managed Attributes import metadata call."
            ]
        },
        {
            "cell_type": "code",
            "execution_count": null,
            "metadata": {},
            "outputs": [],
            "source": [
                "# Call the URI and get the reponse (a comma-separated list of field names)\n",
                "import_uri = f\"{purview_endpoint}/catalog/api/atlas/v2/entity/businessmetadata/import\"\n",
                "\n",
                "payload = {}\n",
                "\n",
                "# Define a tuple with the file to upload\n",
                "files = [\n",
                "    ('file', (filename, open(filename, 'rb'), 'text/csv'))\n",
                "    ]\n",
                "\n",
                "# Construct the header but remove the Content-Type\n",
                "headers = getHeaders()\n",
                "headers.pop('Content-Type')\n",
                "\n",
                "response = requests.request(\"POST\", import_uri, headers=headers, data=payload, files=files)\n",
                "\n",
                "print(response.text)"
            ]
        },
        {
            "attachments": {},
            "cell_type": "markdown",
            "metadata": {},
            "source": [
                "#### Cleanup\n",
                "Delete the assets that were created, the Managed Attribute Types, enumerators, and the collection"
            ]
        },
        {
            "cell_type": "code",
            "execution_count": null,
            "metadata": {},
            "outputs": [],
            "source": [
                "num_entities_for_deletion = 1\n",
                "delete_batch_size = 100\n",
                "\n",
                "while num_entities_for_deletion > 0:\n",
                "  entities_for_deletion = queryCollection(delete_batch_size, collection_id, 0)\n",
                "  num_entities_for_deletion = entities_for_deletion['@search.count']\n",
                "\n",
                "  print(f\"{num_entities_for_deletion} remaining for deletion\")\n",
                "  \n",
                "  delete_uri = f\"{purview_endpoint}/catalog/api/atlas/v2/entity/bulk?\"\n",
                "  for i in entities_for_deletion['value']:\n",
                "    delete_uri = delete_uri + f\"guid={i['id']}&\"\n",
                "\n",
                "  json.loads(requests.request(\"DELETE\", delete_uri[:-1], headers=getHeaders()).content)"
            ]
        },
        {
            "cell_type": "code",
            "execution_count": null,
            "metadata": {},
            "outputs": [],
            "source": [
                "#Delete the collection\n",
                "delete_uri = f\"{purview_endpoint}/collections/{collection_id}?api-version=2019-11-01-preview\"\n",
                "headers = getHeaders()\n",
                "requests.request(\"DELETE\", delete_uri, headers=headers)"
            ]
        },
        {
            "cell_type": "code",
            "execution_count": null,
            "metadata": {},
            "outputs": [],
            "source": [
                "#Delete the Managed Attribute Type\n",
                "delete_uri = f\"{purview_endpoint}/catalog/api/atlas/v2/types/typedef/name/Data%20Residency\"\n",
                "headers = getHeaders()\n",
                "requests.request(\"DELETE\", delete_uri, headers=headers)"
            ]
        },
        {
            "cell_type": "code",
            "execution_count": null,
            "metadata": {},
            "outputs": [],
            "source": [
                "#Delete the enumerator\n",
                "delete_uri = f\"{purview_endpoint}/catalog/api/atlas/v2/types/typedef/name/ATTRIBUTE_ENUM_REGION_CHOICES\"\n",
                "headers = getHeaders()\n",
                "requests.request(\"DELETE\", delete_uri, headers=headers)"
            ]
        }
    ],
    "metadata": {
        "kernelspec": {
            "display_name": "Python 3",
            "language": "python",
            "name": "python3"
        },
        "language_info": {
            "codemirror_mode": {
                "name": "ipython",
                "version": 3
            },
            "file_extension": ".py",
            "mimetype": "text/x-python",
            "name": "python",
            "nbconvert_exporter": "python",
            "pygments_lexer": "ipython3",
            "version": "3.10.11"
        },
        "vscode": {
            "interpreter": {
                "hash": "ebc452c423bdcd6d3b4f01f70d4ddd2ecd029305467ed3f1a966df199e813d34"
            }
        }
    },
    "nbformat": 4,
    "nbformat_minor": 2
}
