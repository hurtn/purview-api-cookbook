{
    "cells": [
        {
            "attachments": {},
            "cell_type": "markdown",
            "metadata": {},
            "source": [
                "#### Bulk Glossary Updates\n",
                "This notebook demonstrates an approach to bulk updating entities with glossary terms, but could be applied to other types of updates.  This example includes code to synthetically create a number of entities and remove them for the purposes of scale testing."
            ]
        },
        {
            "attachments": {},
            "cell_type": "markdown",
            "metadata": {},
            "source": [
                "#### Variables and Imports"
            ]
        },
        {
            "cell_type": "code",
            "execution_count": 15,
            "metadata": {},
            "outputs": [],
            "source": [
                "# Requests for http calls and json used to parse responses and construct HTTP body\n",
                "import requests \n",
                "import json\n",
                "\n",
                "# Client credentials + Purview account details (See https://docs.microsoft.com/en-us/azure/purview/tutorial-using-rest-apis)\n",
                "purview_account = \"pv-sandpit\"\n",
                "purview_endpoint = f\"https://{purview_account}.purview.azure.com\" \n",
                "client_id = \"4a3cc349-a6e2-4dd1-9a94-7126d1506aa2\"\n",
                "client_secret = \"-~28Q~tI.H6gUDY28R4im0CfUibRdvFSpYpK1aXY\"\n",
                "resource = \"https://purview.azure.net\"\n",
                "tenant_id = \"72f988bf-86f1-41af-91ab-2d7cd011db47\"\n",
                "\n",
                "# Access token used for requests\n",
                "access_token = \"\"\n",
                "\n",
                "# Collection reference\n",
                "collection_id = \"api-bulk-tests\"\n",
                "collection_friendly_name = \"API Bulk Tests\"\n",
                "\n",
                "# Search and glossary parameters\n",
                "fqdn_prefix = \"mssql://test-db.database.windows.net/test-server/test-database/test-schema\"    # FQDn pattern to search for\n",
                "term_guid = \"ea23276b-5d3e-475d-b880-7f8ce3f7eb51\"      # Term guid to apply to results"
            ]
        },
        {
            "attachments": {},
            "cell_type": "markdown",
            "metadata": {},
            "source": [
                "#### Functions"
            ]
        },
        {
            "cell_type": "code",
            "execution_count": 9,
            "metadata": {},
            "outputs": [],
            "source": [
                "# Function to construct header for HTTP requests\n",
                "# Parameters:  None\n",
                "# Returns: Dictionary with header information\n",
                "##\n",
                "def getHeaders():\n",
                "    headers = {\n",
                "        'Authorization': f'Bearer {access_token}',\n",
                "        'Content-Type': 'application/json'\n",
                "    }\n",
                "    return headers;"
            ]
        },
        {
            "cell_type": "code",
            "execution_count": 48,
            "metadata": {},
            "outputs": [],
            "source": [
                "# Function to search catalog for a given fqdn patter and a guid.  Returns a searchresult object\n",
                "# Parameters:  \n",
                "#   limit:   Batch size to return (50-1000)\n",
                "#   fqdn:    The FQDN prefix to search for\n",
                "#   guid:    search offset (will filter for results greater than this)\n",
                "# Returns:  Ordered dict object with Search Results sorted by guid (https://learn.microsoft.com/en-us/rest/api/purview/catalogdataplane/discovery/query?tabs=HTTP#searchresult)\n",
                "##\n",
                "def queryForNextBatch(limit, fqdn, guid):\n",
                "\n",
                "    search_uri = f\"{purview_endpoint}/catalog/api/search/query?api-version=2022-03-01-preview\"\n",
                "    payload = json.dumps({\n",
                "        \"keywords\": None,\n",
                "        \"limit\": limit,\n",
                "        \"filter\": {\n",
                "            \"and\": [\n",
                "                {\n",
                "                    \"id\": {\n",
                "                        \"operator\": \"gt\",\n",
                "                        \"value\": guid\n",
                "                    }\n",
                "\n",
                "                },\n",
                "                {\n",
                "                    \"attributeName\": \"qualifiedName\",\n",
                "                    \"operator\": \"startswith\",\n",
                "                    \"attributeValue\": fqdn           \n",
                "                }\n",
                "            ]\n",
                "        },\n",
                "        \"offset\": 0,\n",
                "        \"limit\": limit,\n",
                "        \"orderby\": [{\n",
                "            \"id\": \"asc\"\n",
                "        }]\n",
                "    })\n",
                "\n",
                "    response = json.loads(requests.request(\"POST\", search_uri, data=payload, headers=getHeaders()).content)\n",
                "    return response"
            ]
        },
        {
            "attachments": {},
            "cell_type": "markdown",
            "metadata": {},
            "source": [
                "#### OAuth Credentials\n",
                "Obtain a bearer token to authenticate API requests "
            ]
        },
        {
            "cell_type": "code",
            "execution_count": 23,
            "metadata": {},
            "outputs": [],
            "source": [
                "# oauth2 login\n",
                "url = \"https://login.microsoftonline.com/\" + tenant_id + \"/oauth2/token\"\n",
                "\n",
                "# Login and get token\n",
                "payload='grant_type=client_credentials&client_id=' + client_id + '&client_secret=' + client_secret + '&resource=' + resource\n",
                "headers = {\n",
                "  'Content-Type': 'application/x-www-form-urlencoded',\n",
                "}\n",
                "response = json.loads(requests.request(\"POST\", url, headers=headers, data=payload).content)\n",
                "\n",
                "# Set the access token\n",
                "access_token = response['access_token']"
            ]
        },
        {
            "attachments": {},
            "cell_type": "markdown",
            "metadata": {},
            "source": [
                "#### Intial Setup\n",
                "(Optional) Create a collection and populate it with some assets"
            ]
        },
        {
            "cell_type": "code",
            "execution_count": 13,
            "metadata": {},
            "outputs": [],
            "source": [
                "# Initial setup:  Create the collection and keep a reference to it\n",
                "\n",
                "# Create a collection for the assets\n",
                "uri = f\"{purview_endpoint}/account/collections/{collection_id}?api-version=2019-11-01-preview\"\n",
                "payload = json.dumps({\n",
                "    \"friendlyName\": collection_friendly_name,\n",
                "    \"parentCollection\": {\n",
                "        \"referenceName\": purview_account\n",
                "    }\n",
                "})\n",
                "response = json.loads(requests.request(\"PUT\", uri, headers=getHeaders(), data=payload).content)"
            ]
        },
        {
            "cell_type": "code",
            "execution_count": 57,
            "metadata": {},
            "outputs": [],
            "source": [
                "num_entities_to_create = 10000         # Define the number of entities to create (creates Azure SQL tables)\n",
                "entities = []                         # Initialise a list to store each entity JSON\n",
                "\n",
                "# Loop and create the required asset definitions\n",
                "i = 1\n",
                "while i <= num_entities_to_create:\n",
                "\n",
                "    id = str(i).zfill(5)\n",
                "    entity = {\n",
                "      \"typeName\": \"azure_sql_table\",\n",
                "      \"guid\": f\"-{i}\",\n",
                "      \"attributes\": {\n",
                "        \"name\": f\"Table {id}\", \n",
                "        \"qualifiedName\": f\"{fqdn_prefix}/Test-Table-{id}\",\n",
                "        \"description\": f\"Bulk created asset Test-Table-{id}\"\n",
                "      }\n",
                "    }\n",
                "    entities.append(entity)\n",
                "    i += 1\n",
                "\n",
                "# Define the (collection) bulk create or update URI and push the JSON payload to it\n",
                "uri = f'{purview_endpoint}/catalog/api/collections/{collection_id}/entity/bulk?api-version=2022-03-01-preview'\n",
                "payload = json.dumps({\n",
                "  \"referredEntities\": {},\n",
                "  \"entities\": entities\n",
                "})\n",
                "response = json.loads(requests.request(\"POST\", uri, headers=getHeaders(), data=payload).content)"
            ]
        },
        {
            "attachments": {},
            "cell_type": "markdown",
            "metadata": {},
            "source": [
                "#### Search, retrieve and bulk update\n",
                "Retrieve each asset in the collection and update with a glossary term"
            ]
        },
        {
            "cell_type": "code",
            "execution_count": 58,
            "metadata": {},
            "outputs": [
                {
                    "name": "stdout",
                    "output_type": "stream",
                    "text": [
                        "Total number of entities to update: 10000\n",
                        "number of batches needed with batch size of 500: 20\n",
                        "Processing batch 1 of 20\n",
                        "Processing batch 2 of 20\n",
                        "Processing batch 3 of 20\n",
                        "Processing batch 4 of 20\n",
                        "Processing batch 5 of 20\n",
                        "Processing batch 6 of 20\n",
                        "Processing batch 7 of 20\n",
                        "Processing batch 8 of 20\n",
                        "Processing batch 9 of 20\n",
                        "Processing batch 10 of 20\n",
                        "Processing batch 11 of 20\n",
                        "Processing batch 12 of 20\n",
                        "Processing batch 13 of 20\n",
                        "Processing batch 14 of 20\n",
                        "Processing batch 15 of 20\n",
                        "Processing batch 16 of 20\n",
                        "Processing batch 17 of 20\n",
                        "Processing batch 18 of 20\n",
                        "Processing batch 19 of 20\n",
                        "Processing batch 20 of 20\n"
                    ]
                }
            ],
            "source": [
                "import math\n",
                "\n",
                "uri = f\"{purview_endpoint}/catalog/api/atlas/v2/glossary/terms/{term_guid}/assignedEntities\"\n",
                "batch_size = 500\n",
                "\n",
                "# Get the first batch (search using the fqdn and using zero guid, effectively starting from the first ordered guid)\n",
                "results = queryForNextBatch(batch_size, fqdn_prefix, \"0\")\n",
                "\n",
                "# Get the total number of results from the search\n",
                "total_num_of_entities = int(results.get(\"@search.count\"))\n",
                "print(f\"Total number of entities to update: {total_num_of_entities}\")\n",
                "\n",
                "# Calculate the number of batches needed - DO I NEED THIS?\n",
                "number_of_batches = total_num_of_entities / batch_size\n",
                "number_of_batches = math.ceil(number_of_batches)\n",
                "\n",
                "print(f\"number of batches needed with batch size of {batch_size}: {int(number_of_batches)}\")\n",
                "\n",
                "# Loop through each batch \n",
                "for batch in range(int(number_of_batches)):\n",
                "  print(f\"Processing batch {batch+1} of {int(number_of_batches)}\")\n",
                "  \n",
                "  # Reset the list of guids\n",
                "  batch_guids = []\n",
                "\n",
                "  # Get the list of guids from the current query (note, should really catch exception where no values are returned)\n",
                "  for guids in results['value']:\n",
                "    this_guid = {\"guid\": f\"{guids['id']}\"}\n",
                "    batch_guids.append(this_guid)\n",
                "\n",
                "  # For this guid batch, call the bulk assign API\n",
                "  payload = json.dumps(batch_guids)\n",
                "  response = requests.request(\"POST\", uri, headers=getHeaders(), data=payload)\n",
                "  \n",
                "  # Any throttling or timeouts will show up in the response so\n",
                "  # we can catch exceptions here if response other than 204.\n",
                "  # We still have the guids for this batch so could implement some retry logic,\n",
                "  # but for now just print the response\n",
                "  #print(response)\n",
                "\n",
                "  # Query for the next batch passing in the last guid processed\n",
                "  results = queryForNextBatch(batch_size, fqdn_prefix, this_guid['guid'])\n",
                "\n",
                "\n"
            ]
        },
        {
            "attachments": {},
            "cell_type": "markdown",
            "metadata": {},
            "source": [
                "#### Cleanup\n",
                "Delete the assets that were created and the collection"
            ]
        },
        {
            "cell_type": "code",
            "execution_count": 56,
            "metadata": {},
            "outputs": [
                {
                    "name": "stdout",
                    "output_type": "stream",
                    "text": [
                        "0 remaining for deletion\n"
                    ]
                }
            ],
            "source": [
                "num_entities_for_deletion = 1\n",
                "delete_batch_size = 100\n",
                "\n",
                "while num_entities_for_deletion > 0:\n",
                "  entities_for_deletion = queryForNextBatch(delete_batch_size, fqdn_prefix, \"0\")\n",
                "  num_entities_for_deletion = entities_for_deletion['@search.count']\n",
                "\n",
                "  print(f\"{num_entities_for_deletion} remaining for deletion\")\n",
                "  \n",
                "  delete_uri = f\"{purview_endpoint}/catalog/api/atlas/v2/entity/bulk?\"\n",
                "  for i in entities_for_deletion['value']:\n",
                "    delete_uri = delete_uri + f\"guid={i['id']}&\"\n",
                "\n",
                "  json.loads(requests.request(\"DELETE\", delete_uri[:-1], headers=getHeaders()).content)"
            ]
        },
        {
            "cell_type": "code",
            "execution_count": 84,
            "metadata": {},
            "outputs": [
                {
                    "data": {
                        "text/plain": [
                            "<Response [204]>"
                        ]
                    },
                    "execution_count": 84,
                    "metadata": {},
                    "output_type": "execute_result"
                }
            ],
            "source": [
                "#Delete the collection\n",
                "delete_uri = f\"{purview_endpoint}/collections/{collection_id}?api-version=2019-11-01-preview\"\n",
                "headers = getHeaders()\n",
                "requests.request(\"DELETE\", delete_uri, headers=headers)"
            ]
        }
    ],
    "metadata": {
        "kernelspec": {
            "display_name": "Python 3",
            "language": "python",
            "name": "python3"
        },
        "language_info": {
            "codemirror_mode": {
                "name": "ipython",
                "version": 3
            },
            "file_extension": ".py",
            "mimetype": "text/x-python",
            "name": "python",
            "nbconvert_exporter": "python",
            "pygments_lexer": "ipython3",
            "version": "3.10.11"
        },
        "vscode": {
            "interpreter": {
                "hash": "ebc452c423bdcd6d3b4f01f70d4ddd2ecd029305467ed3f1a966df199e813d34"
            }
        }
    },
    "nbformat": 4,
    "nbformat_minor": 2
}
